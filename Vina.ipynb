{
 "cells": [
  {
   "cell_type": "markdown",
   "metadata": {},
   "source": [
    "# Analiza vin\n",
    "# Projektna naloga za Programiranje 1\n"
   ]
  },
  {
   "cell_type": "markdown",
   "metadata": {},
   "source": [
    "Vsi podatki v analizi so zajeti iz [winelibrary](https://winelibrary.com/search?color[]=Red&color[]=White&color[]=Rose&page=1&size[]=750ML). Seveda notri niso vsebovana vsa vina iz celega sveta, zato so lahko nekateri podatki precej pomankljivi ( morda vina nekatere države sploh niso vsebovana ali pa so vsebovana le poceni/draga vina in so zato povprečja nekoliko napačna)."
   ]
  },
  {
   "cell_type": "markdown",
   "metadata": {},
   "source": [
    "## Predpriprava"
   ]
  },
  {
   "cell_type": "code",
   "execution_count": 2,
   "metadata": {},
   "outputs": [
    {
     "data": {
      "text/html": [
       "<div>\n",
       "<style scoped>\n",
       "    .dataframe tbody tr th:only-of-type {\n",
       "        vertical-align: middle;\n",
       "    }\n",
       "\n",
       "    .dataframe tbody tr th {\n",
       "        vertical-align: top;\n",
       "    }\n",
       "\n",
       "    .dataframe thead th {\n",
       "        text-align: right;\n",
       "    }\n",
       "</style>\n",
       "<table border=\"1\" class=\"dataframe\">\n",
       "  <thead>\n",
       "    <tr style=\"text-align: right;\">\n",
       "      <th></th>\n",
       "      <th>ime</th>\n",
       "      <th>barva</th>\n",
       "      <th>letnik</th>\n",
       "      <th>drzava</th>\n",
       "      <th>regija</th>\n",
       "      <th>cena</th>\n",
       "      <th>alkohol</th>\n",
       "      <th>zaprtje</th>\n",
       "      <th>ocena</th>\n",
       "    </tr>\n",
       "    <tr>\n",
       "      <th>id</th>\n",
       "      <th></th>\n",
       "      <th></th>\n",
       "      <th></th>\n",
       "      <th></th>\n",
       "      <th></th>\n",
       "      <th></th>\n",
       "      <th></th>\n",
       "      <th></th>\n",
       "      <th></th>\n",
       "    </tr>\n",
       "  </thead>\n",
       "  <tbody>\n",
       "    <tr>\n",
       "      <th>100056</th>\n",
       "      <td>2015  Gerard Seguin Gevrey Chambertin Terroir ...</td>\n",
       "      <td>Red</td>\n",
       "      <td>2015</td>\n",
       "      <td>France</td>\n",
       "      <td>Burgundy</td>\n",
       "      <td>45.99</td>\n",
       "      <td>13.0</td>\n",
       "      <td>Cork</td>\n",
       "      <td>NaN</td>\n",
       "    </tr>\n",
       "    <tr>\n",
       "      <th>100087</th>\n",
       "      <td>2016  Grey&amp;#39;s Peak Sauvignon Blanc</td>\n",
       "      <td>White</td>\n",
       "      <td>2016</td>\n",
       "      <td>New Zealand</td>\n",
       "      <td>South Island</td>\n",
       "      <td>24.98</td>\n",
       "      <td>13.5</td>\n",
       "      <td>Screwtop</td>\n",
       "      <td>NaN</td>\n",
       "    </tr>\n",
       "    <tr>\n",
       "      <th>100112</th>\n",
       "      <td>2013  The Vineyardist &amp;#39;lazy Susan Ranch&amp;#3...</td>\n",
       "      <td>Red</td>\n",
       "      <td>2013</td>\n",
       "      <td>United States</td>\n",
       "      <td>California</td>\n",
       "      <td>149.99</td>\n",
       "      <td>14.9</td>\n",
       "      <td>Cork</td>\n",
       "      <td>95.0</td>\n",
       "    </tr>\n",
       "    <tr>\n",
       "      <th>100202</th>\n",
       "      <td>2014  Vine Hill Ranch Cabernet Sauvignon</td>\n",
       "      <td>Red</td>\n",
       "      <td>2014</td>\n",
       "      <td>United States</td>\n",
       "      <td>California</td>\n",
       "      <td>184.99</td>\n",
       "      <td>14.5</td>\n",
       "      <td>Cork</td>\n",
       "      <td>NaN</td>\n",
       "    </tr>\n",
       "    <tr>\n",
       "      <th>100224</th>\n",
       "      <td>2012  Giovanni Manzone Barolo Gramolere</td>\n",
       "      <td>Red</td>\n",
       "      <td>2012</td>\n",
       "      <td>Italy</td>\n",
       "      <td>Piedmont</td>\n",
       "      <td>69.99</td>\n",
       "      <td>14.0</td>\n",
       "      <td>Cork</td>\n",
       "      <td>95.0</td>\n",
       "    </tr>\n",
       "    <tr>\n",
       "      <th>100259</th>\n",
       "      <td>2010  Chateau Tourteran</td>\n",
       "      <td>Red</td>\n",
       "      <td>2010</td>\n",
       "      <td>France</td>\n",
       "      <td>Bordeaux</td>\n",
       "      <td>19.99</td>\n",
       "      <td>13.5</td>\n",
       "      <td>Cork</td>\n",
       "      <td>90.0</td>\n",
       "    </tr>\n",
       "    <tr>\n",
       "      <th>100298</th>\n",
       "      <td>2016  Redheads Studio Yard Dog Red</td>\n",
       "      <td>Red</td>\n",
       "      <td>2016</td>\n",
       "      <td>Australia</td>\n",
       "      <td>South Australia</td>\n",
       "      <td>9.95</td>\n",
       "      <td>14.5</td>\n",
       "      <td>Screwtop</td>\n",
       "      <td>NaN</td>\n",
       "    </tr>\n",
       "    <tr>\n",
       "      <th>100376</th>\n",
       "      <td>2016  Crosby Rose</td>\n",
       "      <td>Rose</td>\n",
       "      <td>2016</td>\n",
       "      <td>United States</td>\n",
       "      <td>California</td>\n",
       "      <td>5.99</td>\n",
       "      <td>13.0</td>\n",
       "      <td>Screwtop</td>\n",
       "      <td>NaN</td>\n",
       "    </tr>\n",
       "    <tr>\n",
       "      <th>100414</th>\n",
       "      <td>2014  Melville Pinot Noir Estate</td>\n",
       "      <td>Red</td>\n",
       "      <td>2014</td>\n",
       "      <td>United States</td>\n",
       "      <td>California</td>\n",
       "      <td>29.99</td>\n",
       "      <td>14.0</td>\n",
       "      <td>Cork</td>\n",
       "      <td>90.0</td>\n",
       "    </tr>\n",
       "    <tr>\n",
       "      <th>100533</th>\n",
       "      <td>2014  Enfield Wine Co Fort Ross Seaview Cabern...</td>\n",
       "      <td>Red</td>\n",
       "      <td>2014</td>\n",
       "      <td>United States</td>\n",
       "      <td>California</td>\n",
       "      <td>67.99</td>\n",
       "      <td>13.9</td>\n",
       "      <td>Cork</td>\n",
       "      <td>92.0</td>\n",
       "    </tr>\n",
       "    <tr>\n",
       "      <th>...</th>\n",
       "      <td>...</td>\n",
       "      <td>...</td>\n",
       "      <td>...</td>\n",
       "      <td>...</td>\n",
       "      <td>...</td>\n",
       "      <td>...</td>\n",
       "      <td>...</td>\n",
       "      <td>...</td>\n",
       "      <td>...</td>\n",
       "    </tr>\n",
       "    <tr>\n",
       "      <th>99441</th>\n",
       "      <td>2015  Chateau Le Couat</td>\n",
       "      <td>Red</td>\n",
       "      <td>2015</td>\n",
       "      <td>France</td>\n",
       "      <td>Bordeaux</td>\n",
       "      <td>8.99</td>\n",
       "      <td>13.5</td>\n",
       "      <td>Cork</td>\n",
       "      <td>NaN</td>\n",
       "    </tr>\n",
       "    <tr>\n",
       "      <th>99442</th>\n",
       "      <td>2015  Chateau Le Moulin Chiche</td>\n",
       "      <td>Red</td>\n",
       "      <td>2015</td>\n",
       "      <td>France</td>\n",
       "      <td>Bordeaux</td>\n",
       "      <td>9.99</td>\n",
       "      <td>12.5</td>\n",
       "      <td>Cork</td>\n",
       "      <td>86.0</td>\n",
       "    </tr>\n",
       "    <tr>\n",
       "      <th>99463</th>\n",
       "      <td>2014  Clusel Roch Condrieu Verchery</td>\n",
       "      <td>White</td>\n",
       "      <td>2014</td>\n",
       "      <td>France</td>\n",
       "      <td>Rhone</td>\n",
       "      <td>52.97</td>\n",
       "      <td>13.5</td>\n",
       "      <td>Cork</td>\n",
       "      <td>92.0</td>\n",
       "    </tr>\n",
       "    <tr>\n",
       "      <th>99510</th>\n",
       "      <td>2014  Envy Cabernet Sauvignon Calistoga Estate</td>\n",
       "      <td>Red</td>\n",
       "      <td>2014</td>\n",
       "      <td>United States</td>\n",
       "      <td>California</td>\n",
       "      <td>48.99</td>\n",
       "      <td>14.6</td>\n",
       "      <td>Cork</td>\n",
       "      <td>91.0</td>\n",
       "    </tr>\n",
       "    <tr>\n",
       "      <th>99530</th>\n",
       "      <td>Mittnacht Cremant D&amp;#39;alsace</td>\n",
       "      <td>White</td>\n",
       "      <td>NaN</td>\n",
       "      <td>France</td>\n",
       "      <td>Alsace</td>\n",
       "      <td>18.98</td>\n",
       "      <td>12.0</td>\n",
       "      <td>Cork</td>\n",
       "      <td>89.0</td>\n",
       "    </tr>\n",
       "    <tr>\n",
       "      <th>99628</th>\n",
       "      <td>2013  Cantina Mesa Buio Buio Isola Dei Nuraghi</td>\n",
       "      <td>Red</td>\n",
       "      <td>2013</td>\n",
       "      <td>Italy</td>\n",
       "      <td>Sardinia</td>\n",
       "      <td>33.99</td>\n",
       "      <td>14.5</td>\n",
       "      <td>Cork</td>\n",
       "      <td>NaN</td>\n",
       "    </tr>\n",
       "    <tr>\n",
       "      <th>99705</th>\n",
       "      <td>Gran Gesta Brut Reserve Cava</td>\n",
       "      <td>White</td>\n",
       "      <td>NaN</td>\n",
       "      <td>Spain</td>\n",
       "      <td>Cava</td>\n",
       "      <td>12.99</td>\n",
       "      <td>13.5</td>\n",
       "      <td>Cork</td>\n",
       "      <td>90.0</td>\n",
       "    </tr>\n",
       "    <tr>\n",
       "      <th>99706</th>\n",
       "      <td>Gran Gesta Brut Rose Cava Reserva</td>\n",
       "      <td>Red</td>\n",
       "      <td>NaN</td>\n",
       "      <td>Spain</td>\n",
       "      <td>Cava</td>\n",
       "      <td>14.99</td>\n",
       "      <td>11.5</td>\n",
       "      <td>Cork</td>\n",
       "      <td>NaN</td>\n",
       "    </tr>\n",
       "    <tr>\n",
       "      <th>99789</th>\n",
       "      <td>2014  Sassicaia</td>\n",
       "      <td>Red</td>\n",
       "      <td>2014</td>\n",
       "      <td>Italy</td>\n",
       "      <td>Tuscany</td>\n",
       "      <td>169.99</td>\n",
       "      <td>13.5</td>\n",
       "      <td>Cork</td>\n",
       "      <td>95.0</td>\n",
       "    </tr>\n",
       "    <tr>\n",
       "      <th>99998</th>\n",
       "      <td>2014  Favia Rompecabezas Amador County</td>\n",
       "      <td>Red</td>\n",
       "      <td>2014</td>\n",
       "      <td>United States</td>\n",
       "      <td>California</td>\n",
       "      <td>76.99</td>\n",
       "      <td>14.0</td>\n",
       "      <td>Cork</td>\n",
       "      <td>92.0</td>\n",
       "    </tr>\n",
       "  </tbody>\n",
       "</table>\n",
       "<p>1848 rows × 9 columns</p>\n",
       "</div>"
      ],
      "text/plain": [
       "                                                      ime  barva letnik  \\\n",
       "id                                                                        \n",
       "100056  2015  Gerard Seguin Gevrey Chambertin Terroir ...    Red   2015   \n",
       "100087              2016  Grey&#39;s Peak Sauvignon Blanc  White   2016   \n",
       "100112  2013  The Vineyardist &#39;lazy Susan Ranch&#3...    Red   2013   \n",
       "100202           2014  Vine Hill Ranch Cabernet Sauvignon    Red   2014   \n",
       "100224            2012  Giovanni Manzone Barolo Gramolere    Red   2012   \n",
       "100259                            2010  Chateau Tourteran    Red   2010   \n",
       "100298                 2016  Redheads Studio Yard Dog Red    Red   2016   \n",
       "100376                                  2016  Crosby Rose   Rose   2016   \n",
       "100414                   2014  Melville Pinot Noir Estate    Red   2014   \n",
       "100533  2014  Enfield Wine Co Fort Ross Seaview Cabern...    Red   2014   \n",
       "...                                                   ...    ...    ...   \n",
       "99441                              2015  Chateau Le Couat    Red   2015   \n",
       "99442                      2015  Chateau Le Moulin Chiche    Red   2015   \n",
       "99463                 2014  Clusel Roch Condrieu Verchery  White   2014   \n",
       "99510      2014  Envy Cabernet Sauvignon Calistoga Estate    Red   2014   \n",
       "99530                      Mittnacht Cremant D&#39;alsace  White    NaN   \n",
       "99628      2013  Cantina Mesa Buio Buio Isola Dei Nuraghi    Red   2013   \n",
       "99705                        Gran Gesta Brut Reserve Cava  White    NaN   \n",
       "99706                   Gran Gesta Brut Rose Cava Reserva    Red    NaN   \n",
       "99789                                     2014  Sassicaia    Red   2014   \n",
       "99998              2014  Favia Rompecabezas Amador County    Red   2014   \n",
       "\n",
       "               drzava           regija    cena alkohol   zaprtje ocena  \n",
       "id                                                                      \n",
       "100056         France         Burgundy   45.99    13.0      Cork   NaN  \n",
       "100087    New Zealand     South Island   24.98    13.5  Screwtop   NaN  \n",
       "100112  United States       California  149.99    14.9      Cork  95.0  \n",
       "100202  United States       California  184.99    14.5      Cork   NaN  \n",
       "100224          Italy         Piedmont   69.99    14.0      Cork  95.0  \n",
       "100259         France         Bordeaux   19.99    13.5      Cork  90.0  \n",
       "100298      Australia  South Australia    9.95    14.5  Screwtop   NaN  \n",
       "100376  United States       California    5.99    13.0  Screwtop   NaN  \n",
       "100414  United States       California   29.99    14.0      Cork  90.0  \n",
       "100533  United States       California   67.99    13.9      Cork  92.0  \n",
       "...               ...              ...     ...     ...       ...   ...  \n",
       "99441          France         Bordeaux    8.99    13.5      Cork   NaN  \n",
       "99442          France         Bordeaux    9.99    12.5      Cork  86.0  \n",
       "99463          France            Rhone   52.97    13.5      Cork  92.0  \n",
       "99510   United States       California   48.99    14.6      Cork  91.0  \n",
       "99530          France           Alsace   18.98    12.0      Cork  89.0  \n",
       "99628           Italy         Sardinia   33.99    14.5      Cork   NaN  \n",
       "99705           Spain             Cava   12.99    13.5      Cork  90.0  \n",
       "99706           Spain             Cava   14.99    11.5      Cork   NaN  \n",
       "99789           Italy          Tuscany  169.99    13.5      Cork  95.0  \n",
       "99998   United States       California   76.99    14.0      Cork  92.0  \n",
       "\n",
       "[1848 rows x 9 columns]"
      ]
     },
     "execution_count": 2,
     "metadata": {},
     "output_type": "execute_result"
    }
   ],
   "source": [
    "import pandas as pd \n",
    "import numpy as np\n",
    "import matplotlib.pyplot as plt\n",
    "%matplotlib inline\n",
    "\n",
    "vina = pd.read_csv('obdelani-podatki/vina.csv', index_col='id', dtype = object)\n",
    "#dtype = object, sicer pandas spremeni letnike v float\n",
    "okusi = pd.read_csv('obdelani-podatki/okusi.csv')\n",
    "vonji = pd.read_csv('obdelani-podatki/vonji.csv')\n",
    "\n",
    "pd.options.display.max_rows = 20\n",
    "\n",
    "vina"
   ]
  },
  {
   "cell_type": "markdown",
   "metadata": {},
   "source": [
    "## Najdražja in najcenejša vina"
   ]
  },
  {
   "cell_type": "markdown",
   "metadata": {},
   "source": [
    "Najprej si za pregled oglejmo nekaj najdražjih in nekaj najcenejših vin."
   ]
  },
  {
   "cell_type": "code",
   "execution_count": 3,
   "metadata": {
    "scrolled": true
   },
   "outputs": [
    {
     "data": {
      "text/html": [
       "<div>\n",
       "<style scoped>\n",
       "    .dataframe tbody tr th:only-of-type {\n",
       "        vertical-align: middle;\n",
       "    }\n",
       "\n",
       "    .dataframe tbody tr th {\n",
       "        vertical-align: top;\n",
       "    }\n",
       "\n",
       "    .dataframe thead th {\n",
       "        text-align: right;\n",
       "    }\n",
       "</style>\n",
       "<table border=\"1\" class=\"dataframe\">\n",
       "  <thead>\n",
       "    <tr style=\"text-align: right;\">\n",
       "      <th></th>\n",
       "      <th>ime</th>\n",
       "      <th>barva</th>\n",
       "      <th>letnik</th>\n",
       "      <th>drzava</th>\n",
       "      <th>regija</th>\n",
       "      <th>cena</th>\n",
       "      <th>alkohol</th>\n",
       "      <th>zaprtje</th>\n",
       "      <th>ocena</th>\n",
       "    </tr>\n",
       "    <tr>\n",
       "      <th>id</th>\n",
       "      <th></th>\n",
       "      <th></th>\n",
       "      <th></th>\n",
       "      <th></th>\n",
       "      <th></th>\n",
       "      <th></th>\n",
       "      <th></th>\n",
       "      <th></th>\n",
       "      <th></th>\n",
       "    </tr>\n",
       "  </thead>\n",
       "  <tbody>\n",
       "    <tr>\n",
       "      <th>86847</th>\n",
       "      <td>2013  Premiere Napa Valley Fairchild Cabernet ...</td>\n",
       "      <td>Red</td>\n",
       "      <td>2013.0</td>\n",
       "      <td>United States</td>\n",
       "      <td>California</td>\n",
       "      <td>1999.99</td>\n",
       "      <td>14.5</td>\n",
       "      <td>Cork</td>\n",
       "      <td>NaN</td>\n",
       "    </tr>\n",
       "    <tr>\n",
       "      <th>109243</th>\n",
       "      <td>2015  Screaming Eagle The Flight</td>\n",
       "      <td>Red</td>\n",
       "      <td>2015.0</td>\n",
       "      <td>United States</td>\n",
       "      <td>California</td>\n",
       "      <td>899.99</td>\n",
       "      <td>14.0</td>\n",
       "      <td>Cork</td>\n",
       "      <td>97.0</td>\n",
       "    </tr>\n",
       "    <tr>\n",
       "      <th>79949</th>\n",
       "      <td>2012  Premiere Napa Valley Bevan &amp;amp; Boswell...</td>\n",
       "      <td>Red</td>\n",
       "      <td>2012.0</td>\n",
       "      <td>United States</td>\n",
       "      <td>California</td>\n",
       "      <td>849.99</td>\n",
       "      <td>15.4</td>\n",
       "      <td>Cork</td>\n",
       "      <td>NaN</td>\n",
       "    </tr>\n",
       "    <tr>\n",
       "      <th>79942</th>\n",
       "      <td>2012  Premiere Napa Valley Larkmead 2012 Calis...</td>\n",
       "      <td>Red</td>\n",
       "      <td>2012.0</td>\n",
       "      <td>United States</td>\n",
       "      <td>California</td>\n",
       "      <td>799.99</td>\n",
       "      <td>14.5</td>\n",
       "      <td>Cork</td>\n",
       "      <td>NaN</td>\n",
       "    </tr>\n",
       "    <tr>\n",
       "      <th>106219</th>\n",
       "      <td>2015  Bryant Family Vineyard Cabernet Sauvignon</td>\n",
       "      <td>Red</td>\n",
       "      <td>2015.0</td>\n",
       "      <td>United States</td>\n",
       "      <td>California</td>\n",
       "      <td>699.99</td>\n",
       "      <td>14.5</td>\n",
       "      <td>Cork</td>\n",
       "      <td>99.0</td>\n",
       "    </tr>\n",
       "  </tbody>\n",
       "</table>\n",
       "</div>"
      ],
      "text/plain": [
       "                                                      ime barva  letnik  \\\n",
       "id                                                                        \n",
       "86847   2013  Premiere Napa Valley Fairchild Cabernet ...   Red  2013.0   \n",
       "109243                   2015  Screaming Eagle The Flight   Red  2015.0   \n",
       "79949   2012  Premiere Napa Valley Bevan &amp; Boswell...   Red  2012.0   \n",
       "79942   2012  Premiere Napa Valley Larkmead 2012 Calis...   Red  2012.0   \n",
       "106219    2015  Bryant Family Vineyard Cabernet Sauvignon   Red  2015.0   \n",
       "\n",
       "               drzava      regija     cena  alkohol zaprtje  ocena  \n",
       "id                                                                  \n",
       "86847   United States  California  1999.99     14.5    Cork    NaN  \n",
       "109243  United States  California   899.99     14.0    Cork   97.0  \n",
       "79949   United States  California   849.99     15.4    Cork    NaN  \n",
       "79942   United States  California   799.99     14.5    Cork    NaN  \n",
       "106219  United States  California   699.99     14.5    Cork   99.0  "
      ]
     },
     "execution_count": 3,
     "metadata": {},
     "output_type": "execute_result"
    }
   ],
   "source": [
    "#najdražjih 5 vin\n",
    "vina.sort_values('cena', ascending = False).head(5)"
   ]
  },
  {
   "cell_type": "markdown",
   "metadata": {},
   "source": [
    "Iz tabele vidimo, da je vseh pet najdražjih vin rdečih iz United States, natančneje iz Californije.\n",
    "Vsa so zaprta z plutnim zamaškom in vsaj nekoliko starana. Najdražje vino stane 1999,99€. "
   ]
  },
  {
   "cell_type": "code",
   "execution_count": 4,
   "metadata": {},
   "outputs": [
    {
     "data": {
      "text/html": [
       "<div>\n",
       "<style scoped>\n",
       "    .dataframe tbody tr th:only-of-type {\n",
       "        vertical-align: middle;\n",
       "    }\n",
       "\n",
       "    .dataframe tbody tr th {\n",
       "        vertical-align: top;\n",
       "    }\n",
       "\n",
       "    .dataframe thead th {\n",
       "        text-align: right;\n",
       "    }\n",
       "</style>\n",
       "<table border=\"1\" class=\"dataframe\">\n",
       "  <thead>\n",
       "    <tr style=\"text-align: right;\">\n",
       "      <th></th>\n",
       "      <th>ime</th>\n",
       "      <th>barva</th>\n",
       "      <th>letnik</th>\n",
       "      <th>drzava</th>\n",
       "      <th>regija</th>\n",
       "      <th>cena</th>\n",
       "      <th>alkohol</th>\n",
       "      <th>zaprtje</th>\n",
       "      <th>ocena</th>\n",
       "    </tr>\n",
       "    <tr>\n",
       "      <th>id</th>\n",
       "      <th></th>\n",
       "      <th></th>\n",
       "      <th></th>\n",
       "      <th></th>\n",
       "      <th></th>\n",
       "      <th></th>\n",
       "      <th></th>\n",
       "      <th></th>\n",
       "      <th></th>\n",
       "    </tr>\n",
       "  </thead>\n",
       "  <tbody>\n",
       "    <tr>\n",
       "      <th>67740</th>\n",
       "      <td>Manischewitz Cream Red Concord (U)</td>\n",
       "      <td>Red</td>\n",
       "      <td>NaN</td>\n",
       "      <td>United States</td>\n",
       "      <td>New York</td>\n",
       "      <td>3.99</td>\n",
       "      <td>11.0</td>\n",
       "      <td>Screwtop</td>\n",
       "      <td>NaN</td>\n",
       "    </tr>\n",
       "    <tr>\n",
       "      <th>21160</th>\n",
       "      <td>Manischewitz Concord (U)P</td>\n",
       "      <td>Red</td>\n",
       "      <td>NaN</td>\n",
       "      <td>United States</td>\n",
       "      <td>New York</td>\n",
       "      <td>3.99</td>\n",
       "      <td>11.0</td>\n",
       "      <td>Screwtop</td>\n",
       "      <td>NaN</td>\n",
       "    </tr>\n",
       "    <tr>\n",
       "      <th>108993</th>\n",
       "      <td>2016  Avia Cabernet Sauvignon</td>\n",
       "      <td>Red</td>\n",
       "      <td>2016.0</td>\n",
       "      <td>Slovenia</td>\n",
       "      <td>NaN</td>\n",
       "      <td>4.68</td>\n",
       "      <td>12.5</td>\n",
       "      <td>Screwtop</td>\n",
       "      <td>NaN</td>\n",
       "    </tr>\n",
       "    <tr>\n",
       "      <th>19530</th>\n",
       "      <td>G &amp;amp; D Marsala</td>\n",
       "      <td>White</td>\n",
       "      <td>NaN</td>\n",
       "      <td>Italy</td>\n",
       "      <td>Sicily</td>\n",
       "      <td>4.79</td>\n",
       "      <td>16.0</td>\n",
       "      <td>Screwtop</td>\n",
       "      <td>NaN</td>\n",
       "    </tr>\n",
       "    <tr>\n",
       "      <th>108923</th>\n",
       "      <td>2017  Ponte Da Barca Vinho Verde Este</td>\n",
       "      <td>White</td>\n",
       "      <td>2017.0</td>\n",
       "      <td>Portugal</td>\n",
       "      <td>NaN</td>\n",
       "      <td>4.88</td>\n",
       "      <td>11.5</td>\n",
       "      <td>Screwtop</td>\n",
       "      <td>NaN</td>\n",
       "    </tr>\n",
       "  </tbody>\n",
       "</table>\n",
       "</div>"
      ],
      "text/plain": [
       "                                          ime  barva  letnik         drzava  \\\n",
       "id                                                                            \n",
       "67740      Manischewitz Cream Red Concord (U)    Red     NaN  United States   \n",
       "21160               Manischewitz Concord (U)P    Red     NaN  United States   \n",
       "108993          2016  Avia Cabernet Sauvignon    Red  2016.0       Slovenia   \n",
       "19530                       G &amp; D Marsala  White     NaN          Italy   \n",
       "108923  2017  Ponte Da Barca Vinho Verde Este  White  2017.0       Portugal   \n",
       "\n",
       "          regija  cena  alkohol   zaprtje  ocena  \n",
       "id                                                \n",
       "67740   New York  3.99     11.0  Screwtop    NaN  \n",
       "21160   New York  3.99     11.0  Screwtop    NaN  \n",
       "108993       NaN  4.68     12.5  Screwtop    NaN  \n",
       "19530     Sicily  4.79     16.0  Screwtop    NaN  \n",
       "108923       NaN  4.88     11.5  Screwtop    NaN  "
      ]
     },
     "execution_count": 4,
     "metadata": {},
     "output_type": "execute_result"
    }
   ],
   "source": [
    "#najcenejših 5 vin\n",
    "vina.sort_values('cena').head(5)"
   ]
  },
  {
   "cell_type": "markdown",
   "metadata": {},
   "source": [
    "Vseh pet najcenejših vin je zaprtih vijačno, kar ne preseneča, saj je ta način zaprtja precej ugodnejši za proizvajalca, vino pa ima krajšo obstojnost. V nadaljevanju bomo preverili ali to velja tudi v povpračju, torej ali so vina zaprta vijačno v splošnem cenejša od tistih s plutnim zamaškom.\n",
    "\n",
    "Zanimivo je, da tako najcenejše kot tudi najdražje vino prihaja iz United States ter tudi to, da tri izmed petih nimajo podanega letnika, kar nakazuje, da so cenejša vina lahko mešanica več različnih letnikov."
   ]
  },
  {
   "cell_type": "markdown",
   "metadata": {},
   "source": [
    "Poglejmo si povprečje cen vin v posameznih državah. Pričakujemo, da bodo najdražja v najbol vinorodnih deželah. (Francija, Amerika, Anglija)\n"
   ]
  },
  {
   "cell_type": "code",
   "execution_count": 65,
   "metadata": {},
   "outputs": [
    {
     "data": {
      "text/plain": [
       "<matplotlib.axes._subplots.AxesSubplot at 0x1b6f7ddfc18>"
      ]
     },
     "execution_count": 65,
     "metadata": {},
     "output_type": "execute_result"
    },
    {
     "data": {
      "image/png": "[encoded data removed]",
      "text/plain": [
       "<Figure size 432x288 with 1 Axes>"
      ]
     },
     "metadata": {
      "needs_background": "light"
     },
     "output_type": "display_data"
    }
   ],
   "source": [
    "vina_po_drzavah = vina.groupby('drzava')\n",
    "povprecja_cen_po_drzavah = vina_po_drzavah['cena'].mean().round(2)\n",
    "povprecja_cen_po_drzavah[povprecja_cen_po_drzavah.index].sort_values().plot(\n",
    "    kind = 'bar', \n",
    "    title = 'Graf povprečnih cen vin po državah')"
   ]
  },
  {
   "cell_type": "markdown",
   "metadata": {},
   "source": [
    "Iz grafa je razvidno, da je poleg pričakovanih držav v samem vrhu tudi Lebanon."
   ]
  },
  {
   "cell_type": "markdown",
   "metadata": {},
   "source": [
    "## Katera barva vina je v povprečju najdražja?"
   ]
  },
  {
   "cell_type": "markdown",
   "metadata": {},
   "source": [
    "Splošno znano so rdeča vina precej dražja, saj so v večini narejena za staranje, so zahtevnejša za pridelavo in ob koncu bogatejša.\n",
    "Poleg tega domnavam, da bodo roseji zaradi načina pridelave najcenejši, še vedno pa precej blizu belih vin.\n",
    "Preverimo naše domneve iz zbranih podatkov."
   ]
  },
  {
   "cell_type": "code",
   "execution_count": 9,
   "metadata": {},
   "outputs": [
    {
     "data": {
      "text/plain": [
       "barva\n",
       "Red      57.14\n",
       "Rose     20.66\n",
       "White    29.52\n",
       "Name: cena, dtype: float64"
      ]
     },
     "execution_count": 9,
     "metadata": {},
     "output_type": "execute_result"
    }
   ],
   "source": [
    "#povprečje cen vin po barvah\n",
    "vina_po_barvah = vina.groupby('barva')\n",
    "povprecja_po_barvah = vina_po_barvah.cena.mean().round(2)\n",
    "povprecja_po_barvah"
   ]
  },
  {
   "cell_type": "code",
   "execution_count": 10,
   "metadata": {},
   "outputs": [
    {
     "data": {
      "image/png": "[encoded data removed]",
      "text/plain": [
       "<Figure size 504x360 with 1 Axes>"
      ]
     },
     "metadata": {
      "needs_background": "light"
     },
     "output_type": "display_data"
    }
   ],
   "source": [
    "plt.figure(figsize = (7,5))\n",
    "ax = plt.gca()\n",
    "ax.set(ylabel = 'Cena', title = 'Graf povprečja cen glede na barvo vina')\n",
    "graf = plt.bar(povprecja_po_barvah.index, povprecja_po_barvah)\n",
    "graf[0].set_color('darkred')\n",
    "graf[1].set_color('mistyrose')\n",
    "graf[2].set_color('gold')\n"
   ]
  },
  {
   "cell_type": "markdown",
   "metadata": {},
   "source": [
    "Graf očitno potrdi domnevo. Preseneča pa, da so roseji kar precej cenejši od belih vin."
   ]
  },
  {
   "cell_type": "markdown",
   "metadata": {},
   "source": [
    "## Katere vino ima najvišjo vsebovanost alkohola?"
   ]
  },
  {
   "cell_type": "markdown",
   "metadata": {},
   "source": [
    "Poglejmo si katero vino ima najvišjo vsebovanost alkohola.\n",
    "Domnevam, da bo to vino rdeče."
   ]
  },
  {
   "cell_type": "code",
   "execution_count": 8,
   "metadata": {},
   "outputs": [
    {
     "data": {
      "text/html": [
       "<div>\n",
       "<style scoped>\n",
       "    .dataframe tbody tr th:only-of-type {\n",
       "        vertical-align: middle;\n",
       "    }\n",
       "\n",
       "    .dataframe tbody tr th {\n",
       "        vertical-align: top;\n",
       "    }\n",
       "\n",
       "    .dataframe thead th {\n",
       "        text-align: right;\n",
       "    }\n",
       "</style>\n",
       "<table border=\"1\" class=\"dataframe\">\n",
       "  <thead>\n",
       "    <tr style=\"text-align: right;\">\n",
       "      <th></th>\n",
       "      <th>ime</th>\n",
       "      <th>barva</th>\n",
       "      <th>letnik</th>\n",
       "      <th>drzava</th>\n",
       "      <th>regija</th>\n",
       "      <th>cena</th>\n",
       "      <th>alkohol</th>\n",
       "      <th>zaprtje</th>\n",
       "      <th>ocena</th>\n",
       "    </tr>\n",
       "    <tr>\n",
       "      <th>id</th>\n",
       "      <th></th>\n",
       "      <th></th>\n",
       "      <th></th>\n",
       "      <th></th>\n",
       "      <th></th>\n",
       "      <th></th>\n",
       "      <th></th>\n",
       "      <th></th>\n",
       "      <th></th>\n",
       "    </tr>\n",
       "  </thead>\n",
       "  <tbody>\n",
       "    <tr>\n",
       "      <th>109331</th>\n",
       "      <td>2016  Fonseca Vintage Port</td>\n",
       "      <td>Red</td>\n",
       "      <td>2016.0</td>\n",
       "      <td>Portugal</td>\n",
       "      <td>Port</td>\n",
       "      <td>89.99</td>\n",
       "      <td>20.5</td>\n",
       "      <td>Cork</td>\n",
       "      <td>98.0</td>\n",
       "    </tr>\n",
       "  </tbody>\n",
       "</table>\n",
       "</div>"
      ],
      "text/plain": [
       "                               ime barva  letnik    drzava regija   cena  \\\n",
       "id                                                                         \n",
       "109331  2016  Fonseca Vintage Port   Red  2016.0  Portugal   Port  89.99   \n",
       "\n",
       "        alkohol zaprtje  ocena  \n",
       "id                              \n",
       "109331     20.5    Cork   98.0  "
      ]
     },
     "execution_count": 8,
     "metadata": {},
     "output_type": "execute_result"
    }
   ],
   "source": [
    "vina[vina.alkohol == vina.alkohol.max()]"
   ]
  },
  {
   "cell_type": "markdown",
   "metadata": {},
   "source": [
    "Res je vino z najvišjo vsebovanostjo alkohola rdeče. Zanimivo se mi zdi, da je to vino iz Portugalske. \n",
    "Poglejmo si ali ima tudi v povprečju Portugalska vina z največjo vsebovanostjo alkohola."
   ]
  },
  {
   "cell_type": "code",
   "execution_count": 66,
   "metadata": {},
   "outputs": [
    {
     "data": {
      "text/plain": [
       "<matplotlib.axes._subplots.AxesSubplot at 0x1b6f8842470>"
      ]
     },
     "execution_count": 66,
     "metadata": {},
     "output_type": "execute_result"
    },
    {
     "data": {
      "image/png": "[encoded data removed]",
      "text/plain": [
       "<Figure size 432x288 with 1 Axes>"
      ]
     },
     "metadata": {
      "needs_background": "light"
     },
     "output_type": "display_data"
    }
   ],
   "source": [
    "povprecja_alkohola_po_drzavah = vina_po_drzavah['alkohol'].mean().round(2)\n",
    "povprecja_alkohola_po_drzavah[povprecja_alkohola_po_drzavah.index].sort_values().plot(\n",
    "    kind = 'bar', \n",
    "    title = 'Graf povprečne vsebovanosti alkohola po državah')"
   ]
  },
  {
   "cell_type": "markdown",
   "metadata": {},
   "source": [
    "Izgleda, da je povprečna vsbovanost alkohola precej enaka po vseh državah. Največjo vsebovanost alkohola ima Armenia, najmanjšo pa Belorusija."
   ]
  },
  {
   "cell_type": "markdown",
   "metadata": {},
   "source": [
    "## Ali je vsebovanost alkohola povezana s ceno?"
   ]
  },
  {
   "cell_type": "markdown",
   "metadata": {},
   "source": [
    "Poglejmo si ali je vsebovanost alkohola sploh kako povezana s ceno."
   ]
  },
  {
   "cell_type": "code",
   "execution_count": 16,
   "metadata": {},
   "outputs": [
    {
     "data": {
      "text/plain": [
       "<matplotlib.collections.PathCollection at 0x1b6f6c4ef98>"
      ]
     },
     "execution_count": 16,
     "metadata": {},
     "output_type": "execute_result"
    },
    {
     "data": {
      "image/png": "[encoded data removed]",
      "text/plain": [
       "<Figure size 1080x360 with 1 Axes>"
      ]
     },
     "metadata": {
      "needs_background": "light"
     },
     "output_type": "display_data"
    }
   ],
   "source": [
    "plt.figure(figsize = (15,5))\n",
    "ax = plt.gca()\n",
    "ax.grid()\n",
    "ax.set(xlabel = 'Alkohol', ylabel = 'Cena', title = 'Graf cene v odvisnosti od alkohola vina')\n",
    "plt.xticks(np.arange(vina.alkohol.min(), vina.alkohol.max(), step = 1))\n",
    "plt.scatter(vina.alkohol, vina.cena)\n"
   ]
  },
  {
   "cell_type": "markdown",
   "metadata": {},
   "source": [
    "Na grafu opazimo, da ima največ vin okrog 13%-15% alkohola, kjer se nahajajo tudi najdražja vina. Torej so najdražja vina v okolici standardnih vrednosti alkohola (morda nekoliko nad standardom), v obeh ekstremih pa so vina najcenejša.\n"
   ]
  },
  {
   "cell_type": "markdown",
   "metadata": {},
   "source": [
    "## Kako sta okus in vonj povezana z barvo in zaprtjem?"
   ]
  },
  {
   "cell_type": "markdown",
   "metadata": {},
   "source": [
    "Za pregled pogostosti vonjev in okusev v odvisnosti od barve ter zaprtja najprej združimo naše tabele podatkov."
   ]
  },
  {
   "cell_type": "code",
   "execution_count": 5,
   "metadata": {},
   "outputs": [
    {
     "data": {
      "text/html": [
       "<div>\n",
       "<style scoped>\n",
       "    .dataframe tbody tr th:only-of-type {\n",
       "        vertical-align: middle;\n",
       "    }\n",
       "\n",
       "    .dataframe tbody tr th {\n",
       "        vertical-align: top;\n",
       "    }\n",
       "\n",
       "    .dataframe thead th {\n",
       "        text-align: right;\n",
       "    }\n",
       "</style>\n",
       "<table border=\"1\" class=\"dataframe\">\n",
       "  <thead>\n",
       "    <tr style=\"text-align: right;\">\n",
       "      <th></th>\n",
       "      <th>ime</th>\n",
       "      <th>barva</th>\n",
       "      <th>zaprtje</th>\n",
       "      <th>vino</th>\n",
       "      <th>vonj</th>\n",
       "      <th>okus</th>\n",
       "    </tr>\n",
       "  </thead>\n",
       "  <tbody>\n",
       "    <tr>\n",
       "      <th>0</th>\n",
       "      <td>2015  Gerard Seguin Gevrey Chambertin Terroir ...</td>\n",
       "      <td>Red</td>\n",
       "      <td>Cork</td>\n",
       "      <td>100056</td>\n",
       "      <td>barnyard</td>\n",
       "      <td>ripe cherry</td>\n",
       "    </tr>\n",
       "    <tr>\n",
       "      <th>1</th>\n",
       "      <td>2015  Gerard Seguin Gevrey Chambertin Terroir ...</td>\n",
       "      <td>Red</td>\n",
       "      <td>Cork</td>\n",
       "      <td>100056</td>\n",
       "      <td>barnyard</td>\n",
       "      <td>plum</td>\n",
       "    </tr>\n",
       "    <tr>\n",
       "      <th>2</th>\n",
       "      <td>2015  Gerard Seguin Gevrey Chambertin Terroir ...</td>\n",
       "      <td>Red</td>\n",
       "      <td>Cork</td>\n",
       "      <td>100056</td>\n",
       "      <td>barnyard</td>\n",
       "      <td>strawberry</td>\n",
       "    </tr>\n",
       "    <tr>\n",
       "      <th>3</th>\n",
       "      <td>2015  Gerard Seguin Gevrey Chambertin Terroir ...</td>\n",
       "      <td>Red</td>\n",
       "      <td>Cork</td>\n",
       "      <td>100056</td>\n",
       "      <td>barnyard</td>\n",
       "      <td>raspberry and   mushroom</td>\n",
       "    </tr>\n",
       "    <tr>\n",
       "      <th>4</th>\n",
       "      <td>2015  Gerard Seguin Gevrey Chambertin Terroir ...</td>\n",
       "      <td>Red</td>\n",
       "      <td>Cork</td>\n",
       "      <td>100056</td>\n",
       "      <td>cherry</td>\n",
       "      <td>ripe cherry</td>\n",
       "    </tr>\n",
       "    <tr>\n",
       "      <th>5</th>\n",
       "      <td>2015  Gerard Seguin Gevrey Chambertin Terroir ...</td>\n",
       "      <td>Red</td>\n",
       "      <td>Cork</td>\n",
       "      <td>100056</td>\n",
       "      <td>cherry</td>\n",
       "      <td>plum</td>\n",
       "    </tr>\n",
       "    <tr>\n",
       "      <th>6</th>\n",
       "      <td>2015  Gerard Seguin Gevrey Chambertin Terroir ...</td>\n",
       "      <td>Red</td>\n",
       "      <td>Cork</td>\n",
       "      <td>100056</td>\n",
       "      <td>cherry</td>\n",
       "      <td>strawberry</td>\n",
       "    </tr>\n",
       "    <tr>\n",
       "      <th>7</th>\n",
       "      <td>2015  Gerard Seguin Gevrey Chambertin Terroir ...</td>\n",
       "      <td>Red</td>\n",
       "      <td>Cork</td>\n",
       "      <td>100056</td>\n",
       "      <td>cherry</td>\n",
       "      <td>raspberry and   mushroom</td>\n",
       "    </tr>\n",
       "    <tr>\n",
       "      <th>8</th>\n",
       "      <td>2015  Gerard Seguin Gevrey Chambertin Terroir ...</td>\n",
       "      <td>Red</td>\n",
       "      <td>Cork</td>\n",
       "      <td>100056</td>\n",
       "      <td>plum</td>\n",
       "      <td>ripe cherry</td>\n",
       "    </tr>\n",
       "    <tr>\n",
       "      <th>9</th>\n",
       "      <td>2015  Gerard Seguin Gevrey Chambertin Terroir ...</td>\n",
       "      <td>Red</td>\n",
       "      <td>Cork</td>\n",
       "      <td>100056</td>\n",
       "      <td>plum</td>\n",
       "      <td>plum</td>\n",
       "    </tr>\n",
       "    <tr>\n",
       "      <th>...</th>\n",
       "      <td>...</td>\n",
       "      <td>...</td>\n",
       "      <td>...</td>\n",
       "      <td>...</td>\n",
       "      <td>...</td>\n",
       "      <td>...</td>\n",
       "    </tr>\n",
       "    <tr>\n",
       "      <th>174755</th>\n",
       "      <td>2014  Favia Rompecabezas Amador County</td>\n",
       "      <td>Red</td>\n",
       "      <td>Cork</td>\n",
       "      <td>99998</td>\n",
       "      <td>spice box and   cedar</td>\n",
       "      <td>dust</td>\n",
       "    </tr>\n",
       "    <tr>\n",
       "      <th>174756</th>\n",
       "      <td>2014  Favia Rompecabezas Amador County</td>\n",
       "      <td>Red</td>\n",
       "      <td>Cork</td>\n",
       "      <td>99998</td>\n",
       "      <td>spice box and   cedar</td>\n",
       "      <td>leather</td>\n",
       "    </tr>\n",
       "    <tr>\n",
       "      <th>174757</th>\n",
       "      <td>2014  Favia Rompecabezas Amador County</td>\n",
       "      <td>Red</td>\n",
       "      <td>Cork</td>\n",
       "      <td>99998</td>\n",
       "      <td>spice box and   cedar</td>\n",
       "      <td>blackberry</td>\n",
       "    </tr>\n",
       "    <tr>\n",
       "      <th>174758</th>\n",
       "      <td>2014  Favia Rompecabezas Amador County</td>\n",
       "      <td>Red</td>\n",
       "      <td>Cork</td>\n",
       "      <td>99998</td>\n",
       "      <td>spice box and   cedar</td>\n",
       "      <td>violet</td>\n",
       "    </tr>\n",
       "    <tr>\n",
       "      <th>174759</th>\n",
       "      <td>2014  Favia Rompecabezas Amador County</td>\n",
       "      <td>Red</td>\n",
       "      <td>Cork</td>\n",
       "      <td>99998</td>\n",
       "      <td>spice box and   cedar</td>\n",
       "      <td>oak</td>\n",
       "    </tr>\n",
       "    <tr>\n",
       "      <th>174760</th>\n",
       "      <td>2014  Favia Rompecabezas Amador County</td>\n",
       "      <td>Red</td>\n",
       "      <td>Cork</td>\n",
       "      <td>99998</td>\n",
       "      <td>spice box and   cedar</td>\n",
       "      <td>smoke</td>\n",
       "    </tr>\n",
       "    <tr>\n",
       "      <th>174761</th>\n",
       "      <td>2014  Favia Rompecabezas Amador County</td>\n",
       "      <td>Red</td>\n",
       "      <td>Cork</td>\n",
       "      <td>99998</td>\n",
       "      <td>spice box and   cedar</td>\n",
       "      <td>toast</td>\n",
       "    </tr>\n",
       "    <tr>\n",
       "      <th>174762</th>\n",
       "      <td>2014  Favia Rompecabezas Amador County</td>\n",
       "      <td>Red</td>\n",
       "      <td>Cork</td>\n",
       "      <td>99998</td>\n",
       "      <td>spice box and   cedar</td>\n",
       "      <td>vanilla</td>\n",
       "    </tr>\n",
       "    <tr>\n",
       "      <th>174763</th>\n",
       "      <td>2014  Favia Rompecabezas Amador County</td>\n",
       "      <td>Red</td>\n",
       "      <td>Cork</td>\n",
       "      <td>99998</td>\n",
       "      <td>spice box and   cedar</td>\n",
       "      <td>currant</td>\n",
       "    </tr>\n",
       "    <tr>\n",
       "      <th>174764</th>\n",
       "      <td>2014  Favia Rompecabezas Amador County</td>\n",
       "      <td>Red</td>\n",
       "      <td>Cork</td>\n",
       "      <td>99998</td>\n",
       "      <td>spice box and   cedar</td>\n",
       "      <td>blueberry and   strawberry</td>\n",
       "    </tr>\n",
       "  </tbody>\n",
       "</table>\n",
       "<p>174765 rows × 6 columns</p>\n",
       "</div>"
      ],
      "text/plain": [
       "                                                      ime barva zaprtje  \\\n",
       "0       2015  Gerard Seguin Gevrey Chambertin Terroir ...   Red    Cork   \n",
       "1       2015  Gerard Seguin Gevrey Chambertin Terroir ...   Red    Cork   \n",
       "2       2015  Gerard Seguin Gevrey Chambertin Terroir ...   Red    Cork   \n",
       "3       2015  Gerard Seguin Gevrey Chambertin Terroir ...   Red    Cork   \n",
       "4       2015  Gerard Seguin Gevrey Chambertin Terroir ...   Red    Cork   \n",
       "5       2015  Gerard Seguin Gevrey Chambertin Terroir ...   Red    Cork   \n",
       "6       2015  Gerard Seguin Gevrey Chambertin Terroir ...   Red    Cork   \n",
       "7       2015  Gerard Seguin Gevrey Chambertin Terroir ...   Red    Cork   \n",
       "8       2015  Gerard Seguin Gevrey Chambertin Terroir ...   Red    Cork   \n",
       "9       2015  Gerard Seguin Gevrey Chambertin Terroir ...   Red    Cork   \n",
       "...                                                   ...   ...     ...   \n",
       "174755             2014  Favia Rompecabezas Amador County   Red    Cork   \n",
       "174756             2014  Favia Rompecabezas Amador County   Red    Cork   \n",
       "174757             2014  Favia Rompecabezas Amador County   Red    Cork   \n",
       "174758             2014  Favia Rompecabezas Amador County   Red    Cork   \n",
       "174759             2014  Favia Rompecabezas Amador County   Red    Cork   \n",
       "174760             2014  Favia Rompecabezas Amador County   Red    Cork   \n",
       "174761             2014  Favia Rompecabezas Amador County   Red    Cork   \n",
       "174762             2014  Favia Rompecabezas Amador County   Red    Cork   \n",
       "174763             2014  Favia Rompecabezas Amador County   Red    Cork   \n",
       "174764             2014  Favia Rompecabezas Amador County   Red    Cork   \n",
       "\n",
       "          vino                     vonj                          okus  \n",
       "0       100056                 barnyard                   ripe cherry  \n",
       "1       100056                 barnyard                          plum  \n",
       "2       100056                 barnyard                    strawberry  \n",
       "3       100056                 barnyard      raspberry and   mushroom  \n",
       "4       100056                   cherry                   ripe cherry  \n",
       "5       100056                   cherry                          plum  \n",
       "6       100056                   cherry                    strawberry  \n",
       "7       100056                   cherry      raspberry and   mushroom  \n",
       "8       100056                     plum                   ripe cherry  \n",
       "9       100056                     plum                          plum  \n",
       "...        ...                      ...                           ...  \n",
       "174755   99998    spice box and   cedar                          dust  \n",
       "174756   99998    spice box and   cedar                       leather  \n",
       "174757   99998    spice box and   cedar                    blackberry  \n",
       "174758   99998    spice box and   cedar                        violet  \n",
       "174759   99998    spice box and   cedar                           oak  \n",
       "174760   99998    spice box and   cedar                         smoke  \n",
       "174761   99998    spice box and   cedar                         toast  \n",
       "174762   99998    spice box and   cedar                       vanilla  \n",
       "174763   99998    spice box and   cedar                       currant  \n",
       "174764   99998    spice box and   cedar    blueberry and   strawberry  \n",
       "\n",
       "[174765 rows x 6 columns]"
      ]
     },
     "execution_count": 5,
     "metadata": {},
     "output_type": "execute_result"
    }
   ],
   "source": [
    "vonji_in_okusi = pd.merge(vina[['ime','barva', 'zaprtje']], pd.merge(vonji, okusi), \n",
    "                          left_on = 'id' ,right_on = 'vino')\n",
    "vonji_in_okusi"
   ]
  },
  {
   "cell_type": "markdown",
   "metadata": {},
   "source": [
    "Poglejmo si 10 najpogostejših vonjev in okusov v vinih."
   ]
  },
  {
   "cell_type": "code",
   "execution_count": 6,
   "metadata": {
    "scrolled": true
   },
   "outputs": [
    {
     "data": {
      "text/plain": [
       "vonj\n",
       "  tobacco       4090\n",
       "  kiwi          4117\n",
       "  rose          4126\n",
       "  violet        4197\n",
       "  pear          4199\n",
       "currant         4333\n",
       "  cedar         4566\n",
       "  earth         5709\n",
       "  blackberry    6176\n",
       "  cherry        8242\n",
       "Name: vino, dtype: int64"
      ]
     },
     "execution_count": 6,
     "metadata": {},
     "output_type": "execute_result"
    }
   ],
   "source": [
    "#kateri vonji se najpogosteje pojavljajo v vinih\n",
    "najpogostejši_vonji = vonji_in_okusi.groupby('vonj').count().sort_values('vino').tail(10)\n",
    "najpogostejši_vonji['vino']"
   ]
  },
  {
   "cell_type": "code",
   "execution_count": 7,
   "metadata": {},
   "outputs": [
    {
     "data": {
      "text/plain": [
       "okus\n",
       "  vanilla        4164\n",
       "  olive          4202\n",
       "  lime           4204\n",
       "  oak            4339\n",
       "  bell pepper    4352\n",
       "  pear           4473\n",
       "  spice          4497\n",
       "  cherry         5167\n",
       "  plum           6232\n",
       "  blackberry     6238\n",
       "Name: vino, dtype: int64"
      ]
     },
     "execution_count": 7,
     "metadata": {},
     "output_type": "execute_result"
    }
   ],
   "source": [
    "#kateri okusi se najpogosteje pojavljajo v vinih\n",
    "najpogostejši_okusi =  vonji_in_okusi.groupby('okus').count().sort_values('vino').tail(10)\n",
    "najpogostejši_okusi['vino']"
   ]
  },
  {
   "cell_type": "markdown",
   "metadata": {},
   "source": [
    "Kaj pa najpogostejši okusi in vonji v posameznih barvah vin ali pa pri različnih zaprtjih vin?"
   ]
  },
  {
   "cell_type": "code",
   "execution_count": 28,
   "metadata": {},
   "outputs": [
    {
     "data": {
      "text/plain": [
       "{'Red': vonj\n",
       "   cedar         4331\n",
       " currant         4333\n",
       "   earth         5552\n",
       "   blackberry    6116\n",
       "   cherry        7295\n",
       " dtype: int64, 'White': vonj\n",
       " apple        3429\n",
       "   apricot    3530\n",
       "   lemon      3533\n",
       "   kiwi       3840\n",
       "   pear       3911\n",
       " dtype: int64, 'Rose': vonj\n",
       "   cherry        361\n",
       "   plum          365\n",
       "   smoke         373\n",
       "   tobacco       392\n",
       "   dark fruit    393\n",
       " dtype: int64}"
      ]
     },
     "execution_count": 28,
     "metadata": {},
     "output_type": "execute_result"
    }
   ],
   "source": [
    "#pet najpogostejših vonjev na barvo vina\n",
    "vonji_po_barvah = {}\n",
    "for color in ['Red','White', 'Rose']:\n",
    "    vonji_po_barvah[color] = vonji_in_okusi[vonji_in_okusi.barva == color].groupby('vonj').size().sort_values().tail(5)\n",
    "vonji_po_barvah \n"
   ]
  },
  {
   "cell_type": "code",
   "execution_count": 23,
   "metadata": {},
   "outputs": [
    {
     "data": {
      "text/plain": [
       "{'Red': okus\n",
       "   olive          4124\n",
       "   bell pepper    4124\n",
       "   cherry         4942\n",
       "   plum           5236\n",
       "   blackberry     5620\n",
       " dtype: int64, 'White': okus\n",
       "   apricot    3461\n",
       "   lemon      3739\n",
       "   peach      3762\n",
       "   lime       3897\n",
       "   pear       4159\n",
       " dtype: int64, 'Rose': okus\n",
       "   leather       373\n",
       "   plum          395\n",
       "   vanilla       480\n",
       "   blackberry    568\n",
       "   strawberry    590\n",
       " dtype: int64}"
      ]
     },
     "execution_count": 23,
     "metadata": {},
     "output_type": "execute_result"
    }
   ],
   "source": [
    "#pet najpogostejših okusov na barvo vina\n",
    "okusi_po_barvah = {}\n",
    "for color in ['Red','White', 'Rose']:\n",
    "    okusi_po_barvah[color] = vonji_in_okusi[vonji_in_okusi.barva == color].groupby('okus').size().sort_values().tail(5)\n",
    "okusi_po_barvah \n"
   ]
  },
  {
   "cell_type": "code",
   "execution_count": 29,
   "metadata": {},
   "outputs": [
    {
     "data": {
      "text/plain": [
       "{'Cork': vonj\n",
       " currant         4040\n",
       "   cedar         4212\n",
       "   earth         5424\n",
       "   blackberry    5716\n",
       "   cherry        7675\n",
       " dtype: int64, 'Screwtop': vonj\n",
       "   peach      539\n",
       "   apricot    584\n",
       " apple        706\n",
       "   kiwi       774\n",
       "   pear       785\n",
       " dtype: int64}"
      ]
     },
     "execution_count": 29,
     "metadata": {},
     "output_type": "execute_result"
    }
   ],
   "source": [
    "#pet najpogostejših vonjev na način zaprtja\n",
    "vinavonji_po_zaprtju = {}\n",
    "for zaprtje in ['Cork','Screwtop']:\n",
    "    vonji_po_zaprtju[zaprtje] = vonji_in_okusi[vonji_in_okusi.zaprtje == zaprtje].groupby('vonj').size().sort_values().tail(5)\n",
    "vonji_po_zaprtju\n"
   ]
  },
  {
   "cell_type": "code",
   "execution_count": 30,
   "metadata": {},
   "outputs": [
    {
     "data": {
      "text/plain": [
       "{'Cork': okus\n",
       "   oak           4035\n",
       "   spice         4178\n",
       "   cherry        4814\n",
       "   blackberry    5741\n",
       "   plum          5829\n",
       " dtype: int64, 'Screwtop': okus\n",
       " apple      581\n",
       "   lemon    581\n",
       "   peach    676\n",
       "   lime     732\n",
       "   pear     793\n",
       " dtype: int64}"
      ]
     },
     "execution_count": 30,
     "metadata": {},
     "output_type": "execute_result"
    }
   ],
   "source": [
    "#pet najpogostejših okusov na način zaprtja\n",
    "okusi_po_zaprtju = {}\n",
    "for zaprtje in ['Cork','Screwtop']:\n",
    "    okusi_po_zaprtju[zaprtje] = vonji_in_okusi[vonji_in_okusi.zaprtje == zaprtje].groupby('okus').size().sort_values().tail(5)\n",
    "okusi_po_zaprtju\n"
   ]
  },
  {
   "cell_type": "markdown",
   "metadata": {},
   "source": [
    "Okusi in vonji vin zaprtih z zavitjem so nekoliko bolj sveži in kiselkasti, kar nakazuje, da so to mlada bela vina, za katere se v resnici tudi uporablja tako zaprtje."
   ]
  },
  {
   "cell_type": "markdown",
   "metadata": {},
   "source": [
    "## Ali so letniki vin povezani s ceno vina? "
   ]
  },
  {
   "cell_type": "markdown",
   "metadata": {},
   "source": [
    "Domnevamo, da bodo starejša rdeča vina dražja, saj se z njihovim staranjem njihova vrednost zvišuje. \n",
    "Pričakujem tudi nekaj odstopanj, saj niso vsa vina narejena za staranje in se jim tako lahko vrednost ne zvišuje."
   ]
  },
  {
   "cell_type": "code",
   "execution_count": 33,
   "metadata": {
    "scrolled": true
   },
   "outputs": [
    {
     "data": {
      "text/plain": [
       "[<matplotlib.lines.Line2D at 0x1b6f6d37be0>]"
      ]
     },
     "execution_count": 33,
     "metadata": {},
     "output_type": "execute_result"
    },
    {
     "data": {
      "image/png": "[encoded data removed]",
      "text/plain": [
       "<Figure size 1080x288 with 1 Axes>"
      ]
     },
     "metadata": {
      "needs_background": "light"
     },
     "output_type": "display_data"
    }
   ],
   "source": [
    "#povprečja cen po letnikih vina\n",
    "vina_po_letih = vina.groupby('letnik')\n",
    "povprecja_po_letih = vina_po_letih['cena'].mean().round(2)\n",
    "\n",
    "plt.figure(figsize = (15,4))\n",
    "ax = plt.gca()\n",
    "ax.grid()\n",
    "ax.set(xlabel = 'Letnik', ylabel = 'Cena', title = 'Graf cene v odvisnosti od letnika vina')\n",
    "plt.scatter(povprecja_po_letih.index, povprecja_po_letih)\n",
    "plt.plot(povprecja_po_letih.index, povprecja_po_letih)"
   ]
  },
  {
   "cell_type": "markdown",
   "metadata": {},
   "source": [
    "Za nekoliko lepšo predstavo je graf povezan s črto. V splošnem z izjemo odstopanj graf z starejšimi letniki res narašča, kar je še posebaj očitno zadnjih 10 let, saj imamo tu tudi veliko več podatkov. Opazimo tudi nekaj velikih odstopanj, kjer je preprosto lahko šlo za slab oziroma dober letnik."
   ]
  },
  {
   "cell_type": "markdown",
   "metadata": {},
   "source": [
    "## Ali je cena povezana z oceno vina?"
   ]
  },
  {
   "cell_type": "markdown",
   "metadata": {},
   "source": [
    "V splošnem naj bi seveda bila cena povezana z oceno vina. Vendar menim, da to ne bo popolnoma res. Iz vsakdana vem, da so lahko nekatera veliko dražja vina podobna ali slabša nekaterim cenejšim. Cena je napreč odvisna tudi od proizvedene količine in morda od posebnih dogodkov pripetenih določeni steklenici."
   ]
  },
  {
   "cell_type": "code",
   "execution_count": 19,
   "metadata": {},
   "outputs": [
    {
     "data": {
      "text/plain": [
       "[Text(0,0.5,'Cena'),\n",
       " Text(0.5,0,'Ocena'),\n",
       " Text(0.5,1,'Graf ocene v odvisnosti od cene vina')]"
      ]
     },
     "execution_count": 19,
     "metadata": {},
     "output_type": "execute_result"
    },
    {
     "data": {
      "image/png": "[encoded data removed]",
      "text/plain": [
       "<Figure size 720x216 with 1 Axes>"
      ]
     },
     "metadata": {
      "needs_background": "light"
     },
     "output_type": "display_data"
    }
   ],
   "source": [
    "plt.figure(figsize = (10,3))\n",
    "plt.scatter(vina.ocena, vina.cena )\n",
    "ax = plt.gca()\n",
    "ax.grid()\n",
    "ax.set(xlabel = 'Ocena', ylabel = 'Cena', title = 'Graf ocene v odvisnosti od cene vina')\n"
   ]
  },
  {
   "cell_type": "markdown",
   "metadata": {},
   "source": [
    "Kot pričakovano je veliko odstopanj pri najdražjih vinih, vseeno pa zgoščenina (z izpuščenimi odstopanji) nakazuje eksponentno naraščanje cene z oceno.\n"
   ]
  },
  {
   "cell_type": "markdown",
   "metadata": {},
   "source": [
    "Nekoliko preseneča nekaj vin z zelo nizko oceno. Poglejmo si ta vina."
   ]
  },
  {
   "cell_type": "code",
   "execution_count": 20,
   "metadata": {},
   "outputs": [
    {
     "data": {
      "text/html": [
       "<div>\n",
       "<style scoped>\n",
       "    .dataframe tbody tr th:only-of-type {\n",
       "        vertical-align: middle;\n",
       "    }\n",
       "\n",
       "    .dataframe tbody tr th {\n",
       "        vertical-align: top;\n",
       "    }\n",
       "\n",
       "    .dataframe thead th {\n",
       "        text-align: right;\n",
       "    }\n",
       "</style>\n",
       "<table border=\"1\" class=\"dataframe\">\n",
       "  <thead>\n",
       "    <tr style=\"text-align: right;\">\n",
       "      <th></th>\n",
       "      <th>ime</th>\n",
       "      <th>barva</th>\n",
       "      <th>letnik</th>\n",
       "      <th>drzava</th>\n",
       "      <th>regija</th>\n",
       "      <th>cena</th>\n",
       "      <th>alkohol</th>\n",
       "      <th>zaprtje</th>\n",
       "      <th>ocena</th>\n",
       "    </tr>\n",
       "    <tr>\n",
       "      <th>id</th>\n",
       "      <th></th>\n",
       "      <th></th>\n",
       "      <th></th>\n",
       "      <th></th>\n",
       "      <th></th>\n",
       "      <th></th>\n",
       "      <th></th>\n",
       "      <th></th>\n",
       "      <th></th>\n",
       "    </tr>\n",
       "  </thead>\n",
       "  <tbody>\n",
       "    <tr>\n",
       "      <th>91896</th>\n",
       "      <td>2014  Rapa Nui Pinot Noir Reserve</td>\n",
       "      <td>Red</td>\n",
       "      <td>2014.0</td>\n",
       "      <td>Chile</td>\n",
       "      <td>Southern Region</td>\n",
       "      <td>9.99</td>\n",
       "      <td>13.5</td>\n",
       "      <td>Cork</td>\n",
       "      <td>3.0</td>\n",
       "    </tr>\n",
       "    <tr>\n",
       "      <th>108073</th>\n",
       "      <td>2015  Fisher Unity Chardonnay</td>\n",
       "      <td>White</td>\n",
       "      <td>2015.0</td>\n",
       "      <td>United States</td>\n",
       "      <td>California</td>\n",
       "      <td>29.96</td>\n",
       "      <td>14.0</td>\n",
       "      <td>Cork</td>\n",
       "      <td>4.0</td>\n",
       "    </tr>\n",
       "    <tr>\n",
       "      <th>108077</th>\n",
       "      <td>2013  Fisher Unity Pinot Noir</td>\n",
       "      <td>Red</td>\n",
       "      <td>2013.0</td>\n",
       "      <td>United States</td>\n",
       "      <td>Anderson Valley California</td>\n",
       "      <td>33.98</td>\n",
       "      <td>14.5</td>\n",
       "      <td>Cork</td>\n",
       "      <td>4.0</td>\n",
       "    </tr>\n",
       "    <tr>\n",
       "      <th>109486</th>\n",
       "      <td>2010  Domaine Coudray Bizot Vosne Romanee La C...</td>\n",
       "      <td>Red</td>\n",
       "      <td>2010.0</td>\n",
       "      <td>France</td>\n",
       "      <td>Burgundy</td>\n",
       "      <td>159.99</td>\n",
       "      <td>13.0</td>\n",
       "      <td>Cork</td>\n",
       "      <td>16.0</td>\n",
       "    </tr>\n",
       "    <tr>\n",
       "      <th>17470</th>\n",
       "      <td>Martini &amp;amp; Rossi Asti Spumanti</td>\n",
       "      <td>White</td>\n",
       "      <td>NaN</td>\n",
       "      <td>Italy</td>\n",
       "      <td>Piedmont</td>\n",
       "      <td>11.09</td>\n",
       "      <td>NaN</td>\n",
       "      <td>Cork</td>\n",
       "      <td>80.0</td>\n",
       "    </tr>\n",
       "  </tbody>\n",
       "</table>\n",
       "</div>"
      ],
      "text/plain": [
       "                                                      ime  barva  letnik  \\\n",
       "id                                                                         \n",
       "91896                   2014  Rapa Nui Pinot Noir Reserve    Red  2014.0   \n",
       "108073                      2015  Fisher Unity Chardonnay  White  2015.0   \n",
       "108077                      2013  Fisher Unity Pinot Noir    Red  2013.0   \n",
       "109486  2010  Domaine Coudray Bizot Vosne Romanee La C...    Red  2010.0   \n",
       "17470                   Martini &amp; Rossi Asti Spumanti  White     NaN   \n",
       "\n",
       "               drzava                      regija    cena  alkohol zaprtje  \\\n",
       "id                                                                           \n",
       "91896           Chile             Southern Region    9.99     13.5    Cork   \n",
       "108073  United States                  California   29.96     14.0    Cork   \n",
       "108077  United States  Anderson Valley California   33.98     14.5    Cork   \n",
       "109486         France                    Burgundy  159.99     13.0    Cork   \n",
       "17470           Italy                    Piedmont   11.09      NaN    Cork   \n",
       "\n",
       "        ocena  \n",
       "id             \n",
       "91896     3.0  \n",
       "108073    4.0  \n",
       "108077    4.0  \n",
       "109486   16.0  \n",
       "17470    80.0  "
      ]
     },
     "execution_count": 20,
     "metadata": {},
     "output_type": "execute_result"
    }
   ],
   "source": [
    "vina.sort_values('ocena').head(5)"
   ]
  },
  {
   "cell_type": "markdown",
   "metadata": {},
   "source": [
    "Glede na ceno teh vin, menim, da so ta bila ocenjena po drugačni lestvici, zato jih izpustimo in si oglejmo podrobnejši graf v okolici ocen 80-100."
   ]
  },
  {
   "cell_type": "code",
   "execution_count": 35,
   "metadata": {
    "scrolled": true
   },
   "outputs": [
    {
     "data": {
      "text/plain": [
       "<matplotlib.collections.PathCollection at 0x1b6f6de8048>"
      ]
     },
     "execution_count": 35,
     "metadata": {},
     "output_type": "execute_result"
    },
    {
     "data": {
      "image/png": "[encoded data removed]",
      "text/plain": [
       "<Figure size 720x432 with 1 Axes>"
      ]
     },
     "metadata": {
      "needs_background": "light"
     },
     "output_type": "display_data"
    }
   ],
   "source": [
    "vina_z_oceno = vina[vina.ocena.notnull()]\n",
    "\n",
    "plt.figure(figsize = (10,6))\n",
    "ax = plt.gca()\n",
    "ax.grid(axis = 'y', color = 'lightgray')\n",
    "ax.set(xlabel = 'Ocena', ylabel = 'Cena', title = 'Graf ocene v odvisnosti od cene vina')\n",
    "plt.xlim(79,101)\n",
    "plt.xticks(np.arange(79, 101, step = 1))\n",
    "plt.yticks(np.arange(0, vina_z_oceno.cena.max() + 100, step = 100))\n",
    "plt.scatter(vina.ocena, vina.cena )"
   ]
  },
  {
   "cell_type": "markdown",
   "metadata": {},
   "source": [
    "Opazimo, da morda vseeno narašča nekoliko počasneje kot eksponentna funkcija, vseeno pa hitreje kot linearna."
   ]
  },
  {
   "cell_type": "markdown",
   "metadata": {},
   "source": [
    "## Ali je cena povezana z zaprtjem vina?"
   ]
  },
  {
   "cell_type": "markdown",
   "metadata": {},
   "source": [
    "Kot smo že pri pregledu na začetku opazili, da imajo najdražja vina plutni zamašek in najcenejša vijačni, domnevam, da bo enako veljalo tudi v povprečju."
   ]
  },
  {
   "cell_type": "code",
   "execution_count": 98,
   "metadata": {},
   "outputs": [
    {
     "data": {
      "text/plain": [
       "zaprtje\n",
       "Cork        51.59\n",
       "Screwtop    15.08\n",
       "Name: cena, dtype: float64"
      ]
     },
     "execution_count": 98,
     "metadata": {},
     "output_type": "execute_result"
    }
   ],
   "source": [
    "#povprečna cena na zaprtje\n",
    "vina_po_zaprtju = vina.groupby('zaprtje', as_index=True)\n",
    "povprecja_po_zaprtju = vina_po_zaprtju['cena'].mean().round(2)\n",
    "povprecja_po_zaprtju"
   ]
  },
  {
   "cell_type": "code",
   "execution_count": 103,
   "metadata": {},
   "outputs": [
    {
     "data": {
      "text/plain": [
       "Text(0, 0.5, 'Zaprtje')"
      ]
     },
     "execution_count": 103,
     "metadata": {},
     "output_type": "execute_result"
    },
    {
     "data": {
      "image/png": "[encoded data removed]",
      "text/plain": [
       "<Figure size 432x288 with 1 Axes>"
      ]
     },
     "metadata": {},
     "output_type": "display_data"
    }
   ],
   "source": [
    "#koliko sploh imamo vin z nekim zaprtjem\n",
    "vina_po_zaprtju.size().plot( kind = 'pie', y = None, autopct='%1.1f%%')\n",
    "ax = plt.gca()\n",
    "ax.set_ylabel('Zaprtje')"
   ]
  },
  {
   "cell_type": "markdown",
   "metadata": {},
   "source": [
    "Iz tortnega diagrama vidimo, da je 86% vin zaprtih s plutnim zamaškom in le 14% z zavitjem."
   ]
  },
  {
   "cell_type": "code",
   "execution_count": 59,
   "metadata": {},
   "outputs": [
    {
     "data": {
      "text/plain": [
       "([], <a list of 0 Text xticklabel objects>)"
      ]
     },
     "execution_count": 59,
     "metadata": {},
     "output_type": "execute_result"
    },
    {
     "data": {
      "image/png": "[encoded data removed]",
      "text/plain": [
       "<Figure size 1080x1080 with 2 Axes>"
      ]
     },
     "metadata": {
      "needs_background": "light"
     },
     "output_type": "display_data"
    }
   ],
   "source": [
    "#cene glede na zaprtje\n",
    "vina_z_zaprtjem = vina[vina.zaprtje.notnull()]\n",
    "vina_z_cork = vina_z_zaprtjem[vina_z_zaprtjem.zaprtje == 'Cork']\n",
    "vina_s_screwtop = vina_z_zaprtjem[vina_z_zaprtjem.zaprtje == 'Screwtop']\n",
    "\n",
    "\n",
    "fig, axs = plt.subplots(nrows=1, ncols=2, sharex = True, sharey = True ,figsize=(15,15))\n",
    "axs[0].boxplot(vina_z_cork['cena'])\n",
    "axs[0].set_xlabel('cork')\n",
    "axs[1].boxplot(vina_s_screwtop['cena'])\n",
    "axs[1].set_xlabel('screwtop')\n",
    "plt.xticks([])"
   ]
  },
  {
   "cell_type": "markdown",
   "metadata": {},
   "source": [
    "Hitro opazimo, da so cene pri plutnem zaprtju veliko večje. Poglejmo si še grafa v svojih razmerjih."
   ]
  },
  {
   "cell_type": "code",
   "execution_count": 105,
   "metadata": {},
   "outputs": [
    {
     "data": {
      "text/plain": [
       "([], <a list of 0 Text xticklabel objects>)"
      ]
     },
     "execution_count": 105,
     "metadata": {},
     "output_type": "execute_result"
    },
    {
     "data": {
      "image/png": "[encoded data removed]",
      "text/plain": [
       "<Figure size 1080x1080 with 2 Axes>"
      ]
     },
     "metadata": {
      "needs_background": "light"
     },
     "output_type": "display_data"
    }
   ],
   "source": [
    "#graf cen glede na zaprtje vsak z svojo skalno lestvico\n",
    "fig, axs = plt.subplots(nrows=1, ncols=2, sharex = True ,figsize=(15,15))\n",
    "axs[0].boxplot(vina_z_cork['cena'])\n",
    "axs[0].set_xlabel('cork')\n",
    "axs[1].boxplot(vina_s_screwtop['cena'])\n",
    "axs[1].set_xlabel('screwtop')\n",
    "plt.xticks([])"
   ]
  }
 ],
 "metadata": {
  "kernelspec": {
   "display_name": "Python 3",
   "language": "python",
   "name": "python3"
  },
  "language_info": {
   "codemirror_mode": {
    "name": "ipython",
    "version": 3
   },
   "file_extension": ".py",
   "mimetype": "text/x-python",
   "name": "python",
   "nbconvert_exporter": "python",
   "pygments_lexer": "ipython3",
   "version": "3.6.4"
  }
 },
 "nbformat": 4,
 "nbformat_minor": 2
}
